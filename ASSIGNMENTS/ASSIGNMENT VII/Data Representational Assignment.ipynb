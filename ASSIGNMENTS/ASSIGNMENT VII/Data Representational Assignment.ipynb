{
 "cells": [
  {
   "cell_type": "markdown",
   "metadata": {},
   "source": [
    "# Q1. Nuts and bolts Problem."
   ]
  },
  {
   "cell_type": "markdown",
   "metadata": {},
   "source": [
    "## To solve this problem we can use a traditional approach of sorting the nuts and bolts and then according to the sizes and then try them out and match them but this will happen with the time complexity of O(n^2) which is undesirable. So we need to reduce the runtime complexity to something lower than O(n^2). \n",
    "\n",
    "## One possible approach can be to use the quicksort method of sorting to arramge the nuts and the bolts according to the size that is desired. in quicksort we will pick the last element as the pivot element and the we will arrange the nuts with the partition index 'part' such that the elements to the left of pivot are smaller than the pivot and elements to the right of pivot are larger than pivot. Similarly we can arrange the bolts as above. Therefore the overall complexity will be somewhat O(n log n) which is better than O(n^2). The quicksort algorithm that will be used will be as follows: "
   ]
  },
  {
   "cell_type": "raw",
   "metadata": {},
   "source": [
    "quickSort(ar[],l,h)\n",
    "   {\n",
    "     if (l<h)\n",
    "    {\n",
    "        part = partition(ar,l,h)\n",
    "        ****Before part*****\n",
    "        quickSort(ar, l, part - 1) \n",
    "        *****After part****\n",
    "        quickSort(ar, part + 1,h)\n",
    "    }\n",
    "   }"
   ]
  },
  {
   "cell_type": "markdown",
   "metadata": {},
   "source": [
    "# Q2. Spaghetti Rods Problem"
   ]
  },
  {
   "cell_type": "markdown",
   "metadata": {},
   "source": [
    "## To solve this problem we can put the vertical rods on a table top. We can then take the tallests rods present among them and do this till no more rods are left. When we do something like this the rods will be sorted in a decreasing order of lenght as desired in the problem statement. "
   ]
  },
  {
   "cell_type": "markdown",
   "metadata": {},
   "source": [
    "# Q3. Peasant, Wolf , Goat and Cabbage Problem"
   ]
  },
  {
   "cell_type": "markdown",
   "metadata": {},
   "source": [
    "## This is a very easy problem which has two conditions in which we cannot leave the goat with the cabbge as it will eat it and the wolf which will eat the goat. So as the peasant can take only one of the three at a time we can do something like the follows to transport all three of them from one bank to another.\n",
    "\n",
    "## So first the peasant will take the goat to the other bank and keep the goat there. He will go back to get the wolf in the boat and leave the wolf and take the goat with him to the other bank so that the goat remains alive. Then the peasant will keep the goat and take the cabbage to the other bank and come back for the goat and take back the goat safely and in this way transfer all three of them from one bak to another in this way."
   ]
  },
  {
   "cell_type": "markdown",
   "metadata": {},
   "source": [
    "# Q4. Post Office Location Problem"
   ]
  },
  {
   "cell_type": "markdown",
   "metadata": {},
   "source": [
    "# We can solve the two given equation independently. In this case we have two instances of the problem where the median of the numbers is the solution of the given problem. Therefore by finding the median of x1,x2,x3....xn, we can find the value of x and similarly we can find the value of y."
   ]
  },
  {
   "cell_type": "markdown",
   "metadata": {},
   "source": [
    "# Q5. Modern B Tree Techniques"
   ]
  },
  {
   "cell_type": "markdown",
   "metadata": {},
   "source": [
    "# In this question we have been asked to read the given paper of MOdern B Tree Techniques present in the canvas. However there are no question present to answer to for the same. I have read the paper but due to unavailablity of question for the same I cannot ptovide any answer as such. "
   ]
  }
 ],
 "metadata": {
  "kernelspec": {
   "display_name": "Python 3",
   "language": "python",
   "name": "python3"
  },
  "language_info": {
   "codemirror_mode": {
    "name": "ipython",
    "version": 3
   },
   "file_extension": ".py",
   "mimetype": "text/x-python",
   "name": "python",
   "nbconvert_exporter": "python",
   "pygments_lexer": "ipython3",
   "version": "3.6.5"
  }
 },
 "nbformat": 4,
 "nbformat_minor": 2
}
