{
 "cells": [
  {
   "cell_type": "markdown",
   "metadata": {},
   "source": [
    "# Coin Change Problem"
   ]
  },
  {
   "cell_type": "markdown",
   "metadata": {},
   "source": [
    "# Q1. Dynamic Programming Algorithm"
   ]
  },
  {
   "cell_type": "markdown",
   "metadata": {},
   "source": [
    "### Dynamic Programming is the approach used to solve the problem of Coin Change in which we are checking right from 1 cent to the number of cents how many such cents will be required to attain the amount we have in question. In this method using dynamic programming we computer from bottom to up where we require so and so number of coins right from 1 cent to the amount we want to go upto."
   ]
  },
  {
   "cell_type": "markdown",
   "metadata": {},
   "source": [
    "### The following is the implementation of the coin change problem using Dynamic Programming which is follwed by its results being runn on different outputs showing its optimal implementation. This approach is not optimal when we have a fixed denomination like 1,5,10,25... as it will go from the smallest denomination to the biggest step by step it may take more number of coins and in such a case it will not be optimal. \n"
   ]
  },
  {
   "cell_type": "markdown",
   "metadata": {},
   "source": [
    "### However when we have denomination like 1,6,11,21... and  such random stuff then dynamic programming will give us the result in a better and efficient way and it will be te most optimal algorithm to acquire the result as desired."
   ]
  },
  {
   "cell_type": "code",
   "execution_count": 15,
   "metadata": {},
   "outputs": [],
   "source": [
    "def printCoins(coin_Used,chnge):\n",
    "    coin = chnge\n",
    "    while coin > 0:\n",
    "        thisCoin = coin_Used[coin]\n",
    "        print(thisCoin)\n",
    "        coin = coin - thisCoin\n",
    "\n",
    "def coin_change_dp(cValueList,chnge,min_Coins,coin_Used):\n",
    "    for cents in range(chnge+1):\n",
    "        coinCount = cents\n",
    "        newCoin = 1\n",
    "        for j in [c for c in cValueList if c <= cents]:\n",
    "            if min_Coins[cents-j] + 1 < coinCount:\n",
    "                coinCount = min_Coins[cents-j]+1\n",
    "                newCoin = j\n",
    "        min_Coins[cents] = coinCount\n",
    "        coin_Used[cents] = newCoin\n",
    "    return min_Coins[chnge]"
   ]
  },
  {
   "cell_type": "code",
   "execution_count": 16,
   "metadata": {},
   "outputs": [
    {
     "name": "stdout",
     "output_type": "stream",
     "text": [
      "Making change for 169 requires\n",
      "12 coins\n",
      "They are:\n",
      "1\n",
      "1\n",
      "1\n",
      "1\n",
      "5\n",
      "10\n",
      "25\n",
      "25\n",
      "25\n",
      "25\n",
      "25\n",
      "25\n"
     ]
    }
   ],
   "source": [
    "amnt = 169\n",
    "clist = [1,5,10,25]\n",
    "coinsUsed = [0]*(amnt+1)\n",
    "coinCount = [0]*(amnt+1)\n",
    "\n",
    "print(\"Making change for\",amnt,\"requires\")\n",
    "print(coin_change_dp(clist,amnt,coinCount,coinsUsed),\"coins\")\n",
    "print(\"They are:\")\n",
    "printCoins(coinsUsed,amnt)"
   ]
  },
  {
   "cell_type": "markdown",
   "metadata": {},
   "source": [
    "### In Dynamic Programming for 1.69$ we require 12 coins as seen above."
   ]
  },
  {
   "cell_type": "code",
   "execution_count": 17,
   "metadata": {},
   "outputs": [
    {
     "name": "stdout",
     "output_type": "stream",
     "text": [
      "Making change for 223 requires\n",
      "13 coins\n",
      "They are:\n",
      "1\n",
      "1\n",
      "1\n",
      "10\n",
      "10\n",
      "25\n",
      "25\n",
      "25\n",
      "25\n",
      "25\n",
      "25\n",
      "25\n",
      "25\n"
     ]
    }
   ],
   "source": [
    "amnt = 223\n",
    "clist = [1,5,10,25]\n",
    "coinsUsed = [0]*(amnt+1)\n",
    "coinCount = [0]*(amnt+1)\n",
    "\n",
    "print(\"Making change for\",amnt,\"requires\")\n",
    "print(coin_change_dp(clist,amnt,coinCount,coinsUsed),\"coins\")\n",
    "print(\"They are:\")\n",
    "printCoins(coinsUsed,amnt)"
   ]
  },
  {
   "cell_type": "markdown",
   "metadata": {},
   "source": [
    "### In Dynamic Programming for 2.23$ we require 13 coins as seen above."
   ]
  },
  {
   "cell_type": "markdown",
   "metadata": {},
   "source": [
    "# Q2. Greedy Approach Algorithm"
   ]
  },
  {
   "cell_type": "markdown",
   "metadata": {},
   "source": [
    "### A greedy approach is a brute force method which we use to solve the problem of solving the coin change approach in which if the amount is one of the coins we have then we return it right away. If we have a particular amount then we see the largest coin we have closest to a multiple of making sum equal to the amount with the least number of coins. "
   ]
  },
  {
   "cell_type": "markdown",
   "metadata": {},
   "source": [
    "### The greedy approach is optimal when we have a fixed denomination such as 1,5,10,25..... When we have such a fixed denomination of coins the greedy approach gives the result in the most optimal way because of the way it works.However if we have an improper denomination like 1,6,13,21.... then the greedy algorithm may no provide the most optimal approach in which case the dynamic programming approach will be more efficient. \n"
   ]
  },
  {
   "cell_type": "markdown",
   "metadata": {},
   "source": [
    "### So to solve this problem it depends on the test cases that we will work on and the denomination that we have and according to that we can design the most optimal algorithm that will be required in that particular solution."
   ]
  },
  {
   "cell_type": "code",
   "execution_count": 18,
   "metadata": {},
   "outputs": [],
   "source": [
    "def coin_change_gd(to_Return, coin_denom = [.01, .05, .10, .25, 1.0, 5.0]):\n",
    "    flagg = None\n",
    "    for c in coin_denom:\n",
    "        if c == to_Return:  \n",
    "            return c\n",
    "        if c < to_Return:\n",
    "            flagg = c\n",
    "    temp_balance = round(to_Return - flagg, 2)\n",
    "    return [flagg] + [coin_change_gd(temp_balance)]\n",
    "\n",
    "def flatten(L):\n",
    "    for item in L:\n",
    "        try:\n",
    "            yield from flatten(item)\n",
    "        except TypeError:\n",
    "            yield item"
   ]
  },
  {
   "cell_type": "code",
   "execution_count": 19,
   "metadata": {},
   "outputs": [],
   "source": [
    "result = coin_change_gd(1.69)\n",
    "my_list = (list(flatten(result)))"
   ]
  },
  {
   "cell_type": "code",
   "execution_count": 20,
   "metadata": {},
   "outputs": [
    {
     "data": {
      "text/plain": [
       "[1.0, 0.25, 0.25, 0.1, 0.05, 0.01, 0.01, 0.01, 0.01]"
      ]
     },
     "execution_count": 20,
     "metadata": {},
     "output_type": "execute_result"
    }
   ],
   "source": [
    "my_list"
   ]
  },
  {
   "cell_type": "code",
   "execution_count": 21,
   "metadata": {},
   "outputs": [
    {
     "name": "stdout",
     "output_type": "stream",
     "text": [
      "9\n"
     ]
    }
   ],
   "source": [
    "L = (list(flatten(result)))\n",
    "coins = 0\n",
    "for i in L:\n",
    "    coins += 1\n",
    "print(coins)"
   ]
  },
  {
   "cell_type": "code",
   "execution_count": 22,
   "metadata": {},
   "outputs": [
    {
     "name": "stdout",
     "output_type": "stream",
     "text": [
      "The count of a Dollar is 1\n",
      "The count of Quarter is 2\n",
      "The count of Dime is 1\n",
      "The count of Nickle is 1\n",
      "The count of Penny is 4\n"
     ]
    }
   ],
   "source": [
    "freq = {} \n",
    "for item in my_list: \n",
    "    if (item in freq): \n",
    "        freq[item] += 1\n",
    "    else: \n",
    "        freq[item] = 1\n",
    "\n",
    "for key, value in freq.items(): \n",
    "    if key == 5.00:\n",
    "        print(\"The count of 5 Dollars is\", value)\n",
    "    elif 1.00 == key:\n",
    "        print(\"The count of a Dollar is\", value)\n",
    "    elif 0.25 == key:\n",
    "        print(\"The count of Quarter is\", value)\n",
    "    elif 0.10 == key:\n",
    "        print(\"The count of Dime is\", value)\n",
    "    elif 0.05 == key:\n",
    "        print(\"The count of Nickle is\", value)\n",
    "    elif 0.01 == key:\n",
    "        print(\"The count of Penny is\", value)"
   ]
  },
  {
   "cell_type": "markdown",
   "metadata": {},
   "source": [
    "### In Greedy Programming for 1.69$ we require 9 coins as seen above."
   ]
  },
  {
   "cell_type": "code",
   "execution_count": 23,
   "metadata": {},
   "outputs": [],
   "source": [
    "result = coin_change_gd(2.23)\n",
    "my_list = (list(flatten(result)))"
   ]
  },
  {
   "cell_type": "code",
   "execution_count": 24,
   "metadata": {},
   "outputs": [
    {
     "name": "stdout",
     "output_type": "stream",
     "text": [
      "7\n"
     ]
    }
   ],
   "source": [
    "L = (list(flatten(result)))\n",
    "coins = 0\n",
    "for i in L:\n",
    "    coins += 1\n",
    "print(coins)"
   ]
  },
  {
   "cell_type": "code",
   "execution_count": 25,
   "metadata": {},
   "outputs": [
    {
     "name": "stdout",
     "output_type": "stream",
     "text": [
      "The count of a Dollar is 2\n",
      "The count of Dime is 2\n",
      "The count of Penny is 3\n"
     ]
    }
   ],
   "source": [
    "freq = {} \n",
    "for item in my_list: \n",
    "    if (item in freq): \n",
    "        freq[item] += 1\n",
    "    else: \n",
    "        freq[item] = 1\n",
    "\n",
    "for key, value in freq.items(): \n",
    "    if key == 5.00:\n",
    "        print(\"The count of 5 Dollars is\", value)\n",
    "    elif 1.00 == key:\n",
    "        print(\"The count of a Dollar is\", value)\n",
    "    elif 0.25 == key:\n",
    "        print(\"The count of Quarter is\", value)\n",
    "    elif 0.10 == key:\n",
    "        print(\"The count of Dime is\", value)\n",
    "    elif 0.05 == key:\n",
    "        print(\"The count of Nickle is\", value)\n",
    "    elif 0.01 == key:\n",
    "        print(\"The count of Penny is\", value)"
   ]
  },
  {
   "cell_type": "markdown",
   "metadata": {},
   "source": [
    "### In Greedy Programming for 1.69$ we require 7 coins as seen above."
   ]
  },
  {
   "cell_type": "markdown",
   "metadata": {},
   "source": [
    "# Q3. Suppose that the available coins are in the denominations that are powers of c, i.e., the denominations are c0, c1, ...., ck for some integers c>1 and k>= 0. Show that the greedy algorithm always yields an optimal solutions. "
   ]
  },
  {
   "cell_type": "markdown",
   "metadata": {},
   "source": [
    "### As we can see above for a given standard denomination of powers the greedy algorithm gives an optimal solution because of its approach in which it selects the highest denomination closest to the required result and then it recurvsively finds the minimum number of coins to compute the result."
   ]
  },
  {
   "cell_type": "markdown",
   "metadata": {},
   "source": [
    "### Therefor for a standard given denomination the greedy algorithm yeilds an optimal result compared to dynamic programming."
   ]
  },
  {
   "cell_type": "markdown",
   "metadata": {},
   "source": [
    "### Hence Proved."
   ]
  }
 ],
 "metadata": {
  "kernelspec": {
   "display_name": "Python 3",
   "language": "python",
   "name": "python3"
  },
  "language_info": {
   "codemirror_mode": {
    "name": "ipython",
    "version": 3
   },
   "file_extension": ".py",
   "mimetype": "text/x-python",
   "name": "python",
   "nbconvert_exporter": "python",
   "pygments_lexer": "ipython3",
   "version": "3.6.5"
  }
 },
 "nbformat": 4,
 "nbformat_minor": 2
}
